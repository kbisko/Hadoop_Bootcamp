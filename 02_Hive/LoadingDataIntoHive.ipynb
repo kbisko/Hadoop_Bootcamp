{
 "cells": [
  {
   "cell_type": "markdown",
   "metadata": {},
   "source": [
    "<div style=\"font-size: 200%; font-weight: bold; color: gray; padding-bottom: 20px\">Loading Data into Hive</div>\n",
    "Our Yelp data sets are stored in JSON format. They include nested structures which cannot be directly translated into SQL/Hive tables.\n",
    "\n",
    "In some cases we have to produce multiple tables from a single data set and then join them in queries. Alternatively, we may have to replicate certain values across rows to generate a \"flat\" table. Sometimes *proper database normalization* and a*nalysis tools* are at odds...\n",
    "\n",
    "To learn more about database normalization go to https://en.wikipedia.org/wiki/Database_normalization"
   ]
  },
  {
   "cell_type": "markdown",
   "metadata": {},
   "source": [
    "# 'user' data set\n",
    "\n",
    "The JSON schema"
   ]
  },
  {
   "cell_type": "raw",
   "metadata": {},
   "source": [
    "{\n",
    "    'type': 'user',\n",
    "    'user_id': (encrypted user id),\n",
    "    'name': (first name),\n",
    "    'review_count': (review count),\n",
    "    'average_stars': (floating point average, like 4.31),\n",
    "    'votes': {(vote type): (count)},\n",
    "    'friends': [(friend user_ids)],\n",
    "    'elite': [(years_elite)],\n",
    "    'yelping_since': (date, formatted like '2012-03'),\n",
    "    'compliments': {\n",
    "        (compliment_type): (num_compliments_of_this_type),\n",
    "        ...\n",
    "    },\n",
    "    'fans': (num_fans),\n",
    "}"
   ]
  },
  {
   "cell_type": "markdown",
   "metadata": {},
   "source": [
    "we want to create the following HIVE table"
   ]
  },
  {
   "cell_type": "code",
   "execution_count": null,
   "metadata": {
    "collapsed": true
   },
   "outputs": [],
   "source": [
    "%%sql\n",
    "CREATE TABLE IF NOT EXISTS yelp_user (\n",
    "    user_id STRING,\n",
    "    name STRING,\n",
    "    review_count INT,\n",
    "    average_stars DOUBLE,\n",
    "    votes INT,\n",
    "    yelping_since DATE,\n",
    "    fans INT\n",
    ") ROW FORMAT DELIMITED FIELDS TERMINATED BY ','\n",
    "LOCATION '/user/pmolnar/yelp/hivetables/user'"
   ]
  },
  {
   "cell_type": "markdown",
   "metadata": {},
   "source": [
    "We need to write a MapReduce mapper script that transforms records from the 'user' data set to the above format"
   ]
  },
  {
   "cell_type": "code",
   "execution_count": null,
   "metadata": {
    "ExecuteTime": {
     "end_time": "2017-01-20T11:29:53.720887",
     "start_time": "2017-01-20T11:29:53.715758"
    },
    "collapsed": false
   },
   "outputs": [],
   "source": [
    "# %load user2csv_mpr.py\n",
    "#!/usr/bin/env python\n",
    "\n",
    "import sys\n",
    "import json\n",
    "# input comes from STDIN (standard input)\n",
    "for line in sys.stdin:\n",
    "    try:\n",
    "        r = json.loads(line)\n",
    "        ##for f in r['friends']:\n",
    "        ## printing COMMA seperated lines from a list of values\n",
    "        print ','.join([r['user_id'], r['name'], r['review_count'], r['average_stars']])\n",
    "\n"
   ]
  },
  {
   "cell_type": "markdown",
   "metadata": {},
   "source": [
    "... run MapReduce"
   ]
  },
  {
   "cell_type": "code",
   "execution_count": null,
   "metadata": {
    "collapsed": true
   },
   "outputs": [],
   "source": [
    "%%sh\n",
    "# use the current directory as location for program files\n",
    "WD=`pwd`\n",
    "\n",
    "OUTDIR=/user/$USER/yelp/output\n",
    "OUTPUT=$OUTDIR/user2csv\n",
    "\n",
    "# make sure output directory exists\n",
    "hdfs dfs -mkdir -p $OUTDIR \n",
    "\n",
    "# make sure the output files don't exist\n",
    "hdfs dfs -rm -r -f -skipTrash $OUTPUT\n",
    "\n",
    "INPUT=/user/$USER/yelp/data/user/*\n",
    "yarn \\\n",
    "    jar /usr/hdp/2.4.2.0-258/hadoop-mapreduce/hadoop-streaming-2.7.1.2.4.2.0-258.jar \\\n",
    "    -mapper \"$WD/user2csv_mpr.py\" \\\n",
    "    -input $INPUT \\\n",
    "    -output $OUTPUT"
   ]
  },
  {
   "cell_type": "markdown",
   "metadata": {},
   "source": [
    "Now, we can load the output of the mapreduce"
   ]
  },
  {
   "cell_type": "code",
   "execution_count": null,
   "metadata": {
    "collapsed": true
   },
   "outputs": [],
   "source": [
    "%%sql\n",
    "LOAD DATA INPATH '/user/pmolnar/help/output/user2csv/part-*' INTO TABLE yelp_user"
   ]
  },
  {
   "cell_type": "markdown",
   "metadata": {},
   "source": [
    "Check it out"
   ]
  },
  {
   "cell_type": "code",
   "execution_count": null,
   "metadata": {
    "collapsed": true
   },
   "outputs": [],
   "source": [
    "%%sql\n",
    "SELECT * FROM yelp_user LIMIT 10"
   ]
  },
  {
   "cell_type": "code",
   "execution_count": null,
   "metadata": {
    "collapsed": true
   },
   "outputs": [],
   "source": []
  }
 ],
 "metadata": {
  "hide_input": false,
  "kernelspec": {
   "display_name": "Python 2",
   "language": "python",
   "name": "python2"
  },
  "language_info": {
   "codemirror_mode": {
    "name": "ipython",
    "version": 2
   },
   "file_extension": ".py",
   "mimetype": "text/x-python",
   "name": "python",
   "nbconvert_exporter": "python",
   "pygments_lexer": "ipython2",
   "version": "2.7.5"
  },
  "toc": {
   "nav_menu": {
    "height": "31px",
    "width": "252px"
   },
   "navigate_menu": true,
   "number_sections": true,
   "sideBar": true,
   "threshold": 4,
   "toc_cell": false,
   "toc_section_display": "block",
   "toc_window_display": false
  }
 },
 "nbformat": 4,
 "nbformat_minor": 0
}
