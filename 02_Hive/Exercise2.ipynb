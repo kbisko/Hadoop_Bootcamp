{
 "cells": [
  {
   "cell_type": "markdown",
   "metadata": {},
   "source": [
    "<div style=\"font-size: 200%; font-weight: bold; color: gray; padding-bottom: 15px\">Exercise One</div>\n",
    "Let's look at out Yelp data. We already created some Hive tables.\n",
    "\n",
    "First, though: get the notebook ready. We're going to use both types of connections: SQL Alchemy and SQL magic. You should also try out 'beeline'\n",
    "\n",
    "- SQL-Alchemy/Pandas: `conn = sa.create_engine('hive://backend-0-1:10000/%s'%(os.getenv('USER'))`\n",
    "- Jupyer SQL magic: `%%sql "
   ]
  },
  {
   "cell_type": "code",
   "execution_count": null,
   "metadata": {
    "collapsed": true
   },
   "outputs": [],
   "source": [
    "import numpy as np\n",
    "import pandas as pd\n",
    "import sqlalchemy as sa\n",
    "%matplotlib inline\n",
    "import matlpotlib.pyplot as plt\n",
    "%load_ext sql\n",
    "%config SqlMagic.autolimit=200\n",
    "%config SqlMagic.displaylimit=20"
   ]
  },
  {
   "cell_type": "markdown",
   "metadata": {},
   "source": [
    "# Set-up your data base\n",
    "1. Create your own database\n",
    "2. Check write and read permissions for your database on the HDFS\n",
    "3. From now on: Aways start your Hive session with\n",
    "    `USE myname`"
   ]
  },
  {
   "cell_type": "code",
   "execution_count": null,
   "metadata": {
    "collapsed": true
   },
   "outputs": [],
   "source": []
  },
  {
   "cell_type": "markdown",
   "metadata": {},
   "source": [
    "# Explore Yelp Data\n",
    "The Yelp data tables are in the schema 'yelp'. You can refer to them as `yelp.review` etc.\n",
    "\n",
    "**Please, don't create any other tables in 'yelp'. Save your tables in your own schema.**\n",
    "\n",
    "Follow the Hive Tutorial https://cwiki.apache.org/confluence/display/Hive/Tutorial#Tutorial-SimpleQuery to explore the data:\n",
    "- run some aggregations\n",
    "- try joining tables\n",
    "- save query results in new tables (**in your own database**)\n",
    "\n",
    "...use the different methods to access Hive."
   ]
  },
  {
   "cell_type": "code",
   "execution_count": null,
   "metadata": {
    "collapsed": true
   },
   "outputs": [],
   "source": []
  },
  {
   "cell_type": "markdown",
   "metadata": {},
   "source": [
    "# Putting things together\n",
    "Hive with Pandas and Matplotlib is a powerful combination:\n",
    "- We use Hive for bulk queries, aggregation and joins.\n",
    "- Once the desired data have been selected we can load them into Pandas data frame for refinement.\n",
    "- Then create charts with Matplotlib.\n",
    "\n",
    "Start with some simple queries to create a \"funnel\" like this. Compare who Hive and Pandas deal with data wrangling.\n",
    "\n",
    "Even more powerful: MapReduce -> Hive -> Pandas -> Matplotlib"
   ]
  },
  {
   "cell_type": "code",
   "execution_count": null,
   "metadata": {
    "collapsed": true
   },
   "outputs": [],
   "source": []
  }
 ],
 "metadata": {
  "hide_input": false,
  "kernelspec": {
   "display_name": "Python 2",
   "language": "python",
   "name": "python2"
  },
  "language_info": {
   "codemirror_mode": {
    "name": "ipython",
    "version": 2
   },
   "file_extension": ".py",
   "mimetype": "text/x-python",
   "name": "python",
   "nbconvert_exporter": "python",
   "pygments_lexer": "ipython2",
   "version": "2.7.5"
  },
  "toc": {
   "nav_menu": {
    "height": "68px",
    "width": "252px"
   },
   "navigate_menu": true,
   "number_sections": true,
   "sideBar": true,
   "threshold": 4,
   "toc_cell": false,
   "toc_section_display": "block",
   "toc_window_display": false
  }
 },
 "nbformat": 4,
 "nbformat_minor": 0
}
