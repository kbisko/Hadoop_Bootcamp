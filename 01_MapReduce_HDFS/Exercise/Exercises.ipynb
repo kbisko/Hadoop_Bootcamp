{
 "cells": [
  {
   "cell_type": "markdown",
   "metadata": {
    "collapsed": true
   },
   "source": [
    "# Exercise: UNIX, HDFS and Map-Reduce\n",
    "\n",
    "The following are ideas to test our newly gained knowledge:\n",
    "\n",
    "## Warm-up\n",
    "1. Create a folder structure under your user directory on the HDFS, and load some data files (e.g. Yelp) from the local file-system. Split data- files into smaller chunks, and `gzip` them.\n",
    "2. Extract CSV tables from Yelp or Twitter JSON files using `jq` or `python`.\n",
    "3. Perform aggregations and frequency counts using UNIX command line tools and pipes.\n",
    "\n",
    "\n",
    "## Walk\n",
    "1. Write a Map-Reduce mapper to filter and convert rows from a single datafile, and produce a (small) CSV table. Run Map-Reduce with data on the HDFS, move the resulting CSV table onto the local file system.\n",
    "2. Write a mapper and reducer to count words in Yelp reviews. Produce a list with the 200 most frequent words.\n",
    "\n",
    "## Run\n",
    "1. Join tables using Map-Reduce (use Yelp ... and incorporate JSON extraction)\n",
    "2. Write a sentiment analysis script in Python, and use Map-Reduce to apply to the Yelp reviews. **Run faster:** Produce a table with 'Sentiment' and 'Rating' from Yelp reviews.\n"
   ]
  },
  {
   "cell_type": "code",
   "execution_count": null,
   "metadata": {
    "collapsed": true
   },
   "outputs": [],
   "source": [
    "%%sh\n"
   ]
  }
 ],
 "metadata": {
  "hide_input": false,
  "kernelspec": {
   "display_name": "Python 2",
   "language": "python",
   "name": "python2"
  },
  "language_info": {
   "codemirror_mode": {
    "name": "ipython",
    "version": 2
   },
   "file_extension": ".py",
   "mimetype": "text/x-python",
   "name": "python",
   "nbconvert_exporter": "python",
   "pygments_lexer": "ipython2",
   "version": "2.7.5"
  },
  "toc": {
   "nav_menu": {
    "height": "12px",
    "width": "252px"
   },
   "navigate_menu": true,
   "number_sections": true,
   "sideBar": true,
   "threshold": 4,
   "toc_cell": false,
   "toc_section_display": "block",
   "toc_window_display": false
  }
 },
 "nbformat": 4,
 "nbformat_minor": 0
}
